{
 "cells": [
  {
   "cell_type": "code",
   "execution_count": 144,
   "metadata": {},
   "outputs": [],
   "source": [
    "import pandas as pd\n",
    "from pathlib import Path"
   ]
  },
  {
   "cell_type": "code",
   "execution_count": 145,
   "metadata": {},
   "outputs": [],
   "source": [
    "csvpath = Path('../PyBank/budget_data.csv')\n",
    "\n"
   ]
  },
  {
   "cell_type": "code",
   "execution_count": 146,
   "metadata": {},
   "outputs": [],
   "source": [
    "budgetDataFrame = pd.read_csv(csvpath)"
   ]
  },
  {
   "cell_type": "code",
   "execution_count": 147,
   "metadata": {},
   "outputs": [
    {
     "data": {
      "text/html": [
       "<div>\n",
       "<style scoped>\n",
       "    .dataframe tbody tr th:only-of-type {\n",
       "        vertical-align: middle;\n",
       "    }\n",
       "\n",
       "    .dataframe tbody tr th {\n",
       "        vertical-align: top;\n",
       "    }\n",
       "\n",
       "    .dataframe thead th {\n",
       "        text-align: right;\n",
       "    }\n",
       "</style>\n",
       "<table border=\"1\" class=\"dataframe\">\n",
       "  <thead>\n",
       "    <tr style=\"text-align: right;\">\n",
       "      <th></th>\n",
       "      <th>Date</th>\n",
       "      <th>Profit/Losses</th>\n",
       "    </tr>\n",
       "  </thead>\n",
       "  <tbody>\n",
       "    <tr>\n",
       "      <th>0</th>\n",
       "      <td>Jan-2010</td>\n",
       "      <td>867884</td>\n",
       "    </tr>\n",
       "    <tr>\n",
       "      <th>1</th>\n",
       "      <td>Feb-2010</td>\n",
       "      <td>984655</td>\n",
       "    </tr>\n",
       "    <tr>\n",
       "      <th>2</th>\n",
       "      <td>Mar-2010</td>\n",
       "      <td>322013</td>\n",
       "    </tr>\n",
       "    <tr>\n",
       "      <th>3</th>\n",
       "      <td>Apr-2010</td>\n",
       "      <td>-69417</td>\n",
       "    </tr>\n",
       "    <tr>\n",
       "      <th>4</th>\n",
       "      <td>May-2010</td>\n",
       "      <td>310503</td>\n",
       "    </tr>\n",
       "  </tbody>\n",
       "</table>\n",
       "</div>"
      ],
      "text/plain": [
       "       Date  Profit/Losses\n",
       "0  Jan-2010         867884\n",
       "1  Feb-2010         984655\n",
       "2  Mar-2010         322013\n",
       "3  Apr-2010         -69417\n",
       "4  May-2010         310503"
      ]
     },
     "execution_count": 147,
     "metadata": {},
     "output_type": "execute_result"
    }
   ],
   "source": [
    "budgetDataFrame.head()"
   ]
  },
  {
   "cell_type": "code",
   "execution_count": 148,
   "metadata": {},
   "outputs": [
    {
     "data": {
      "text/html": [
       "<div>\n",
       "<style scoped>\n",
       "    .dataframe tbody tr th:only-of-type {\n",
       "        vertical-align: middle;\n",
       "    }\n",
       "\n",
       "    .dataframe tbody tr th {\n",
       "        vertical-align: top;\n",
       "    }\n",
       "\n",
       "    .dataframe thead th {\n",
       "        text-align: right;\n",
       "    }\n",
       "</style>\n",
       "<table border=\"1\" class=\"dataframe\">\n",
       "  <thead>\n",
       "    <tr style=\"text-align: right;\">\n",
       "      <th></th>\n",
       "      <th>Date</th>\n",
       "      <th>Profit/Losses</th>\n",
       "    </tr>\n",
       "  </thead>\n",
       "  <tbody>\n",
       "    <tr>\n",
       "      <th>0</th>\n",
       "      <td>Jan-2010</td>\n",
       "      <td>867884</td>\n",
       "    </tr>\n",
       "    <tr>\n",
       "      <th>1</th>\n",
       "      <td>Feb-2010</td>\n",
       "      <td>984655</td>\n",
       "    </tr>\n",
       "    <tr>\n",
       "      <th>2</th>\n",
       "      <td>Mar-2010</td>\n",
       "      <td>322013</td>\n",
       "    </tr>\n",
       "    <tr>\n",
       "      <th>3</th>\n",
       "      <td>Apr-2010</td>\n",
       "      <td>-69417</td>\n",
       "    </tr>\n",
       "    <tr>\n",
       "      <th>4</th>\n",
       "      <td>May-2010</td>\n",
       "      <td>310503</td>\n",
       "    </tr>\n",
       "  </tbody>\n",
       "</table>\n",
       "</div>"
      ],
      "text/plain": [
       "       Date  Profit/Losses\n",
       "0  Jan-2010         867884\n",
       "1  Feb-2010         984655\n",
       "2  Mar-2010         322013\n",
       "3  Apr-2010         -69417\n",
       "4  May-2010         310503"
      ]
     },
     "execution_count": 148,
     "metadata": {},
     "output_type": "execute_result"
    }
   ],
   "source": [
    "budgetDataFrame = budgetDataFrame.dropna (how = 'any', axis=0)\n",
    "budgetDataFrame.head()"
   ]
  },
  {
   "cell_type": "code",
   "execution_count": 149,
   "metadata": {},
   "outputs": [
    {
     "name": "stdout",
     "output_type": "stream",
     "text": [
      "--------------Financial Analysis----------------\n",
      "Total Months:86\n"
     ]
    }
   ],
   "source": [
    "print('--------------Financial Analysis----------------')\n",
    "\n",
    "(totalMonths) = budgetDataFrame.count()[0]\n",
    "print(\"Total Months:\" + str(totalMonths))\n"
   ]
  },
  {
   "cell_type": "code",
   "execution_count": 150,
   "metadata": {},
   "outputs": [
    {
     "name": "stdout",
     "output_type": "stream",
     "text": [
      "Total:38382578\n"
     ]
    }
   ],
   "source": [
    "total = sum(budgetDataFrame['Profit/Losses'])\n",
    "print('Total:' + str(total))"
   ]
  },
  {
   "cell_type": "code",
   "execution_count": 151,
   "metadata": {},
   "outputs": [
    {
     "name": "stdout",
     "output_type": "stream",
     "text": [
      "<bound method NDFrame.head of         Date  Profit/Losses   shifted  difference\n",
      "0   Jan-2010         867884       NaN         NaN\n",
      "1   Feb-2010         984655  867884.0    116771.0\n",
      "2   Mar-2010         322013  984655.0   -662642.0\n",
      "3   Apr-2010         -69417  322013.0   -391430.0\n",
      "4   May-2010         310503  -69417.0    379920.0\n",
      "..       ...            ...       ...         ...\n",
      "81  Oct-2016         102685  768450.0   -665765.0\n",
      "82  Nov-2016         795914  102685.0    693229.0\n",
      "83  Dec-2016          60988  795914.0   -734926.0\n",
      "84  Jan-2017         138230   60988.0     77242.0\n",
      "85  Feb-2017         671099  138230.0    532869.0\n",
      "\n",
      "[86 rows x 4 columns]>\n"
     ]
    }
   ],
   "source": [
    "budgetDataFrame['shifted'] = budgetDataFrame['Profit/Losses'].shift(1)\n",
    "\n",
    "budgetDataFrame['difference'] = budgetDataFrame['Profit/Losses'] - budgetDataFrame['shifted']\n",
    "\n",
    "print(budgetDataFrame.head)"
   ]
  },
  {
   "cell_type": "code",
   "execution_count": 152,
   "metadata": {},
   "outputs": [],
   "source": [
    "budgetDataFrame = budgetDataFrame.dropna (how = 'any', axis=0)"
   ]
  },
  {
   "cell_type": "code",
   "execution_count": 153,
   "metadata": {},
   "outputs": [
    {
     "name": "stdout",
     "output_type": "stream",
     "text": [
      "<bound method NDFrame.head of         Date  Profit/Losses   shifted  difference\n",
      "1   Feb-2010         984655  867884.0    116771.0\n",
      "2   Mar-2010         322013  984655.0   -662642.0\n",
      "3   Apr-2010         -69417  322013.0   -391430.0\n",
      "4   May-2010         310503  -69417.0    379920.0\n",
      "5   Jun-2010         522857  310503.0    212354.0\n",
      "..       ...            ...       ...         ...\n",
      "81  Oct-2016         102685  768450.0   -665765.0\n",
      "82  Nov-2016         795914  102685.0    693229.0\n",
      "83  Dec-2016          60988  795914.0   -734926.0\n",
      "84  Jan-2017         138230   60988.0     77242.0\n",
      "85  Feb-2017         671099  138230.0    532869.0\n",
      "\n",
      "[85 rows x 4 columns]>\n"
     ]
    }
   ],
   "source": [
    "print(budgetDataFrame.head)"
   ]
  },
  {
   "cell_type": "code",
   "execution_count": 154,
   "metadata": {},
   "outputs": [
    {
     "name": "stdout",
     "output_type": "stream",
     "text": [
      "-2288.1976744186045\n"
     ]
    }
   ],
   "source": [
    "averageDelta = sum(budgetDataFrame['difference']) / totalMonths\n",
    "\n",
    "print(averageDelta)"
   ]
  },
  {
   "cell_type": "code",
   "execution_count": 155,
   "metadata": {},
   "outputs": [
    {
     "name": "stdout",
     "output_type": "stream",
     "text": [
      "Greatest increase:1926159.0\n"
     ]
    }
   ],
   "source": [
    "maxDelta = budgetDataFrame['difference'].max()\n",
    "print('Greatest increase:' + str(maxDelta))"
   ]
  },
  {
   "cell_type": "code",
   "execution_count": 156,
   "metadata": {},
   "outputs": [
    {
     "name": "stdout",
     "output_type": "stream",
     "text": [
      "Greatest decrease: -2196167.0\n"
     ]
    }
   ],
   "source": [
    "minDelta = budgetDataFrame['difference'].min()\n",
    "\n",
    "print('Greatest decrease: ' + str(minDelta))"
   ]
  },
  {
   "cell_type": "code",
   "execution_count": 165,
   "metadata": {},
   "outputs": [
    {
     "name": "stdout",
     "output_type": "stream",
     "text": [
      "--------------Final Answers----------------\n",
      "Total Months:86\n",
      "Total:38382578\n",
      "Average Change:-2288.1976744186045\n",
      "Greatest increase:1926159.0\n",
      "Greatest decrease: -2196167.0\n"
     ]
    }
   ],
   "source": [
    "f = open(r\"mydocument.txt\", \"a\")\n",
    "f.write(\"This text is added using Append.\")\n",
    "\n",
    "\n",
    "print('--------------Final Answers----------------')\n",
    "\n",
    "print(\"Total Months:\" + str(totalMonths))\n",
    "print('Total:' + str(total))\n",
    "print('Average Change:' + str(averageDelta))\n",
    "print('Greatest increase:' + str(maxDelta))\n",
    "print('Greatest decrease: ' + str(minDelta))\n",
    "\n",
    "f.close()"
   ]
  },
  {
   "cell_type": "code",
   "execution_count": null,
   "metadata": {},
   "outputs": [],
   "source": []
  }
 ],
 "metadata": {
  "kernelspec": {
   "display_name": "Python 3",
   "language": "python",
   "name": "python3"
  },
  "language_info": {
   "codemirror_mode": {
    "name": "ipython",
    "version": 3
   },
   "file_extension": ".py",
   "mimetype": "text/x-python",
   "name": "python",
   "nbconvert_exporter": "python",
   "pygments_lexer": "ipython3",
   "version": "3.8.5"
  }
 },
 "nbformat": 4,
 "nbformat_minor": 4
}
